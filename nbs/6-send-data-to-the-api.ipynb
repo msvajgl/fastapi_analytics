{
 "cells": [
  {
   "cell_type": "code",
   "execution_count": null,
   "id": "29275ea2",
   "metadata": {},
   "outputs": [],
   "source": [
    "import requests"
   ]
  },
  {
   "cell_type": "markdown",
   "id": "69a873a6",
   "metadata": {},
   "source": []
  },
  {
   "cell_type": "code",
   "execution_count": null,
   "id": "7ffc471a",
   "metadata": {},
   "outputs": [],
   "source": [
    "path = \"/api/events\"\n",
    "base_url = \"http://localhost:8002\"\n",
    "create_endpoint = f\"{base_url}{path}\"\n",
    "\n",
    "\n",
    "response = requests.post(create_endpoint, json={\"page\": \"/test++22\"})\n",
    "print(response.headers)\n",
    "print('ok', response.ok)\n",
    "if response.ok:\n",
    "    data = response.json()\n",
    "    print(data, type(data), data.get('items'))\n",
    "else:\n",
    "    print(response.text)"
   ]
  },
  {
   "cell_type": "code",
   "execution_count": null,
   "id": "4ea02b16",
   "metadata": {},
   "outputs": [],
   "source": [
    "detail_path = \"/api/events/1\"\n",
    "detail_endpoint = f\"{base_url}{detail_path}\"\n",
    "\n",
    "response = requests.put(detail_endpoint, json={\"description\": \"test\"})\n",
    "print(response.headers)\n",
    "print('ok', response.ok)\n",
    "if response.ok:\n",
    "    data = response.json()\n",
    "    print(data, type(data), data.get('items'))\n",
    "else:\n",
    "    print(response.text)"
   ]
  },
  {
   "cell_type": "code",
   "execution_count": null,
   "id": "b766098f",
   "metadata": {},
   "outputs": [],
   "source": [
    "import random\n",
    "event_count = 1000\n",
    "\n",
    "pages = ['/about', '/contact', '/pages', '/pricing']\n",
    "\n",
    "for i in range(event_count):\n",
    "    page = random.choice(pages)\n",
    "    response = requests.post(create_endpoint, json={\"page\": page})\n",
    "    print(response.headers)\n",
    "    print('ok', response.ok)\n",
    "    if response.ok:\n",
    "        data = response.json()\n",
    "        print(data, type(data), data.get('items'))\n",
    "    else:\n",
    "        print(response.text)"
   ]
  },
  {
   "cell_type": "code",
   "execution_count": null,
   "id": "0bcbc30a",
   "metadata": {},
   "outputs": [],
   "source": [
    "%pip install faker"
   ]
  },
  {
   "cell_type": "code",
   "execution_count": null,
   "id": "aff454f8",
   "metadata": {},
   "outputs": [],
   "source": [
    "from faker import Faker\n",
    "import random\n",
    "event_count = 10_000\n",
    "\n",
    "pages = ['/','/about', '/contact', '/pages', '/pricing',\n",
    "        '/blog', '/products', '/login', '/signup', '/dashboard',\n",
    "        '/settings']\n",
    "\n",
    "fake = Faker()\n",
    "session_ids = [fake.uuid4() for _ in range(20)]\n",
    "path = \"/api/events\"\n",
    "base_url = \"http://localhost:8002\"\n",
    "create_endpoint = f\"{base_url}{path}\"\n",
    "\n",
    "referrers = [\n",
    "    \"https://google.com\",\n",
    "    \"https://facebook.com\",\n",
    "    \"https://twitter.com\",\n",
    "    \"https://linkedin.com\",\n",
    "    \"https://github.com\"\n",
    "]\n",
    "\n",
    "for i in range(event_count):\n",
    "    page = random.choice(pages)\n",
    "    user_agent = random.choice([\n",
    "        fake.chrome,\n",
    "        fake.firefox, \n",
    "        fake.safari,\n",
    "        fake.opera,\n",
    "        fake.user_agent\n",
    "    ])()\n",
    "\n",
    "    payload = dict(\n",
    "        page=random.choice(pages),\n",
    "        user_agent=user_agent,\n",
    "        ip_address=fake.ipv4(),\n",
    "        referrer=random.choice(referrers),\n",
    "        session_id=random.choice(session_ids),\n",
    "        duration=random.randint(5, 5000)\n",
    "    )\n",
    "    response = requests.post(create_endpoint, json=payload)\n",
    "    print(payload)\n",
    "    if response.ok:\n",
    "        data = response.json()\n",
    "        print(data)\n",
    "\n",
    "    else:\n",
    "        print(response.text)"
   ]
  }
 ],
 "metadata": {
  "kernelspec": {
   "display_name": "venv",
   "language": "python",
   "name": "python3"
  },
  "language_info": {
   "codemirror_mode": {
    "name": "ipython",
    "version": 3
   },
   "file_extension": ".py",
   "mimetype": "text/x-python",
   "name": "python",
   "nbconvert_exporter": "python",
   "pygments_lexer": "ipython3",
   "version": "3.12.4"
  }
 },
 "nbformat": 4,
 "nbformat_minor": 5
}

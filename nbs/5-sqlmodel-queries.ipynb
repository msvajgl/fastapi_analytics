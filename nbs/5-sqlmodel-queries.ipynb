{
 "cells": [
  {
   "cell_type": "code",
   "execution_count": 4,
   "id": "3e311272",
   "metadata": {},
   "outputs": [
    {
     "name": "stdout",
     "output_type": "stream",
     "text": [
      "Requirement already satisfied: fastapi==0.115.11 in c:\\msbackup\\programovani\\codingenterpreneurs\\analytics-api\\venv\\lib\\site-packages (from -r C:/MSBACKUP/Programovani/codingenterpreneurs/analytics-api/requirements.txt (line 1)) (0.115.11)\n",
      "Requirement already satisfied: uvicorn in c:\\msbackup\\programovani\\codingenterpreneurs\\analytics-api\\venv\\lib\\site-packages (from -r C:/MSBACKUP/Programovani/codingenterpreneurs/analytics-api/requirements.txt (line 2)) (0.35.0)\n",
      "Requirement already satisfied: gunicorn in c:\\msbackup\\programovani\\codingenterpreneurs\\analytics-api\\venv\\lib\\site-packages (from -r C:/MSBACKUP/Programovani/codingenterpreneurs/analytics-api/requirements.txt (line 3)) (23.0.0)\n",
      "Requirement already satisfied: sqlmodel in c:\\msbackup\\programovani\\codingenterpreneurs\\analytics-api\\venv\\lib\\site-packages (from -r C:/MSBACKUP/Programovani/codingenterpreneurs/analytics-api/requirements.txt (line 4)) (0.0.24)\n",
      "Requirement already satisfied: pydantic in c:\\msbackup\\programovani\\codingenterpreneurs\\analytics-api\\venv\\lib\\site-packages (from -r C:/MSBACKUP/Programovani/codingenterpreneurs/analytics-api/requirements.txt (line 5)) (2.11.7)\n",
      "Requirement already satisfied: sqlalchemy in c:\\msbackup\\programovani\\codingenterpreneurs\\analytics-api\\venv\\lib\\site-packages (from -r C:/MSBACKUP/Programovani/codingenterpreneurs/analytics-api/requirements.txt (line 6)) (2.0.42)\n",
      "Requirement already satisfied: timescaledb in c:\\msbackup\\programovani\\codingenterpreneurs\\analytics-api\\venv\\lib\\site-packages (from -r C:/MSBACKUP/Programovani/codingenterpreneurs/analytics-api/requirements.txt (line 7)) (0.0.4)\n",
      "Requirement already satisfied: requests in c:\\msbackup\\programovani\\codingenterpreneurs\\analytics-api\\venv\\lib\\site-packages (from -r C:/MSBACKUP/Programovani/codingenterpreneurs/analytics-api/requirements.txt (line 8)) (2.32.4)\n",
      "Requirement already satisfied: python-decouple in c:\\msbackup\\programovani\\codingenterpreneurs\\analytics-api\\venv\\lib\\site-packages (from -r C:/MSBACKUP/Programovani/codingenterpreneurs/analytics-api/requirements.txt (line 9)) (3.8)\n",
      "Collecting psycopg[binary] (from -r C:/MSBACKUP/Programovani/codingenterpreneurs/analytics-api/requirements.txt (line 10))\n",
      "  Using cached psycopg-3.2.9-py3-none-any.whl.metadata (4.5 kB)\n",
      "Requirement already satisfied: starlette<0.47.0,>=0.40.0 in c:\\msbackup\\programovani\\codingenterpreneurs\\analytics-api\\venv\\lib\\site-packages (from fastapi==0.115.11->-r C:/MSBACKUP/Programovani/codingenterpreneurs/analytics-api/requirements.txt (line 1)) (0.46.2)\n",
      "Requirement already satisfied: typing-extensions>=4.8.0 in c:\\msbackup\\programovani\\codingenterpreneurs\\analytics-api\\venv\\lib\\site-packages (from fastapi==0.115.11->-r C:/MSBACKUP/Programovani/codingenterpreneurs/analytics-api/requirements.txt (line 1)) (4.14.1)\n",
      "Requirement already satisfied: annotated-types>=0.6.0 in c:\\msbackup\\programovani\\codingenterpreneurs\\analytics-api\\venv\\lib\\site-packages (from pydantic->-r C:/MSBACKUP/Programovani/codingenterpreneurs/analytics-api/requirements.txt (line 5)) (0.7.0)\n",
      "Requirement already satisfied: pydantic-core==2.33.2 in c:\\msbackup\\programovani\\codingenterpreneurs\\analytics-api\\venv\\lib\\site-packages (from pydantic->-r C:/MSBACKUP/Programovani/codingenterpreneurs/analytics-api/requirements.txt (line 5)) (2.33.2)\n",
      "Requirement already satisfied: typing-inspection>=0.4.0 in c:\\msbackup\\programovani\\codingenterpreneurs\\analytics-api\\venv\\lib\\site-packages (from pydantic->-r C:/MSBACKUP/Programovani/codingenterpreneurs/analytics-api/requirements.txt (line 5)) (0.4.1)\n",
      "Requirement already satisfied: anyio<5,>=3.6.2 in c:\\msbackup\\programovani\\codingenterpreneurs\\analytics-api\\venv\\lib\\site-packages (from starlette<0.47.0,>=0.40.0->fastapi==0.115.11->-r C:/MSBACKUP/Programovani/codingenterpreneurs/analytics-api/requirements.txt (line 1)) (4.9.0)\n",
      "Requirement already satisfied: idna>=2.8 in c:\\msbackup\\programovani\\codingenterpreneurs\\analytics-api\\venv\\lib\\site-packages (from anyio<5,>=3.6.2->starlette<0.47.0,>=0.40.0->fastapi==0.115.11->-r C:/MSBACKUP/Programovani/codingenterpreneurs/analytics-api/requirements.txt (line 1)) (3.10)\n",
      "Requirement already satisfied: sniffio>=1.1 in c:\\msbackup\\programovani\\codingenterpreneurs\\analytics-api\\venv\\lib\\site-packages (from anyio<5,>=3.6.2->starlette<0.47.0,>=0.40.0->fastapi==0.115.11->-r C:/MSBACKUP/Programovani/codingenterpreneurs/analytics-api/requirements.txt (line 1)) (1.3.1)\n",
      "Requirement already satisfied: click>=7.0 in c:\\msbackup\\programovani\\codingenterpreneurs\\analytics-api\\venv\\lib\\site-packages (from uvicorn->-r C:/MSBACKUP/Programovani/codingenterpreneurs/analytics-api/requirements.txt (line 2)) (8.2.1)\n",
      "Requirement already satisfied: h11>=0.8 in c:\\msbackup\\programovani\\codingenterpreneurs\\analytics-api\\venv\\lib\\site-packages (from uvicorn->-r C:/MSBACKUP/Programovani/codingenterpreneurs/analytics-api/requirements.txt (line 2)) (0.16.0)\n",
      "Requirement already satisfied: packaging in c:\\msbackup\\programovani\\codingenterpreneurs\\analytics-api\\venv\\lib\\site-packages (from gunicorn->-r C:/MSBACKUP/Programovani/codingenterpreneurs/analytics-api/requirements.txt (line 3)) (25.0)\n",
      "Requirement already satisfied: greenlet>=1 in c:\\msbackup\\programovani\\codingenterpreneurs\\analytics-api\\venv\\lib\\site-packages (from sqlalchemy->-r C:/MSBACKUP/Programovani/codingenterpreneurs/analytics-api/requirements.txt (line 6)) (3.2.3)\n",
      "Requirement already satisfied: charset_normalizer<4,>=2 in c:\\msbackup\\programovani\\codingenterpreneurs\\analytics-api\\venv\\lib\\site-packages (from requests->-r C:/MSBACKUP/Programovani/codingenterpreneurs/analytics-api/requirements.txt (line 8)) (3.4.2)\n",
      "Requirement already satisfied: urllib3<3,>=1.21.1 in c:\\msbackup\\programovani\\codingenterpreneurs\\analytics-api\\venv\\lib\\site-packages (from requests->-r C:/MSBACKUP/Programovani/codingenterpreneurs/analytics-api/requirements.txt (line 8)) (2.5.0)\n",
      "Requirement already satisfied: certifi>=2017.4.17 in c:\\msbackup\\programovani\\codingenterpreneurs\\analytics-api\\venv\\lib\\site-packages (from requests->-r C:/MSBACKUP/Programovani/codingenterpreneurs/analytics-api/requirements.txt (line 8)) (2025.8.3)\n",
      "Collecting tzdata (from psycopg[binary]->-r C:/MSBACKUP/Programovani/codingenterpreneurs/analytics-api/requirements.txt (line 10))\n",
      "  Using cached tzdata-2025.2-py2.py3-none-any.whl.metadata (1.4 kB)\n",
      "Collecting psycopg-binary==3.2.9 (from psycopg[binary]->-r C:/MSBACKUP/Programovani/codingenterpreneurs/analytics-api/requirements.txt (line 10))\n",
      "  Using cached psycopg_binary-3.2.9-cp312-cp312-win_amd64.whl.metadata (3.0 kB)\n",
      "Requirement already satisfied: colorama in c:\\msbackup\\programovani\\codingenterpreneurs\\analytics-api\\venv\\lib\\site-packages (from click>=7.0->uvicorn->-r C:/MSBACKUP/Programovani/codingenterpreneurs/analytics-api/requirements.txt (line 2)) (0.4.6)\n",
      "Using cached psycopg-3.2.9-py3-none-any.whl (202 kB)\n",
      "Using cached psycopg_binary-3.2.9-cp312-cp312-win_amd64.whl (2.9 MB)\n",
      "Using cached tzdata-2025.2-py2.py3-none-any.whl (347 kB)\n",
      "Installing collected packages: tzdata, psycopg-binary, psycopg\n",
      "\n",
      "   ---------------------------------------- 0/3 [tzdata]\n",
      "   ---------------------------------------- 0/3 [tzdata]\n",
      "   ---------------------------------------- 0/3 [tzdata]\n",
      "   ---------------------------------------- 0/3 [tzdata]\n",
      "   ------------- -------------------------- 1/3 [psycopg-binary]\n",
      "   -------------------------- ------------- 2/3 [psycopg]\n",
      "   -------------------------- ------------- 2/3 [psycopg]\n",
      "   -------------------------- ------------- 2/3 [psycopg]\n",
      "   -------------------------- ------------- 2/3 [psycopg]\n",
      "   ---------------------------------------- 3/3 [psycopg]\n",
      "\n",
      "Successfully installed psycopg-3.2.9 psycopg-binary-3.2.9 tzdata-2025.2\n"
     ]
    }
   ],
   "source": [
    "!pip install -r C:/MSBACKUP/Programovani/codingenterpreneurs/analytics-api/requirements.txt"
   ]
  },
  {
   "cell_type": "code",
   "execution_count": 5,
   "id": "50a47577",
   "metadata": {},
   "outputs": [],
   "source": [
    "import sys\n",
    "from pathlib import Path"
   ]
  },
  {
   "cell_type": "code",
   "execution_count": null,
   "id": "e24eb4d5",
   "metadata": {},
   "outputs": [
    {
     "data": {
      "text/plain": [
       "WindowsPath('C:/MSBACKUP/Programovani/codingenterpreneurs/analytics-api/src')"
      ]
     },
     "execution_count": 6,
     "metadata": {},
     "output_type": "execute_result"
    }
   ],
   "source": [
    "src_path = Path(\"../src\").resolve()\n",
    "sys.path.append(str(src_path))"
   ]
  },
  {
   "cell_type": "code",
   "execution_count": 11,
   "id": "855ab99e",
   "metadata": {},
   "outputs": [],
   "source": [
    "from sqlmodel import Session, select\n",
    "from api.events.models import EventModel\n",
    "from api.db.session import engine"
   ]
  },
  {
   "cell_type": "code",
   "execution_count": 16,
   "id": "100e5df9",
   "metadata": {},
   "outputs": [
    {
     "name": "stdout",
     "output_type": "stream",
     "text": [
      "SELECT eventmodel.id, eventmodel.time, eventmodel.page, eventmodel.description, eventmodel.updated_at \n",
      "FROM eventmodel ORDER BY eventmodel.updated_at DESC\n",
      " LIMIT 10\n",
      "\n",
      "SELECT eventmodel.id, eventmodel.time, eventmodel.page, eventmodel.description, eventmodel.updated_at \n",
      "FROM eventmodel ORDER BY eventmodel.updated_at DESC\n",
      " LIMIT :param_1\n"
     ]
    }
   ],
   "source": [
    "with Session(engine) as session:\n",
    "    query = select(EventModel).order_by(EventModel.updated_at.desc()).limit(10)\n",
    "    compiled_query = query.compile(compile_kwargs={\"literal_binds\":True})\n",
    "    print(compiled_query)\n",
    "    print(\"\")\n",
    "    print(str(query))\n",
    "    # results = session.exec(query).all()\n",
    "    # print(results)"
   ]
  },
  {
   "cell_type": "code",
   "execution_count": 17,
   "id": "1eef13c3",
   "metadata": {},
   "outputs": [
    {
     "name": "stdout",
     "output_type": "stream",
     "text": [
      "[EventModel(page='/pages', updated_at=datetime.datetime(2025, 8, 9, 15, 44, 11, 842414, tzinfo=datetime.timezone.utc), id=10000, time=datetime.datetime(2025, 8, 9, 15, 44, 11, 842406, tzinfo=datetime.timezone.utc), description='my description'), EventModel(page='/pricing', updated_at=datetime.datetime(2025, 8, 9, 15, 44, 11, 705756, tzinfo=datetime.timezone.utc), id=9999, time=datetime.datetime(2025, 8, 9, 15, 44, 11, 705747, tzinfo=datetime.timezone.utc), description='my description'), EventModel(page='/pricing', updated_at=datetime.datetime(2025, 8, 9, 15, 44, 11, 566533, tzinfo=datetime.timezone.utc), id=9998, time=datetime.datetime(2025, 8, 9, 15, 44, 11, 566519, tzinfo=datetime.timezone.utc), description='my description'), EventModel(page='/pages', updated_at=datetime.datetime(2025, 8, 9, 15, 44, 11, 434285, tzinfo=datetime.timezone.utc), id=9997, time=datetime.datetime(2025, 8, 9, 15, 44, 11, 434275, tzinfo=datetime.timezone.utc), description='my description'), EventModel(page='/pricing', updated_at=datetime.datetime(2025, 8, 9, 15, 44, 11, 291191, tzinfo=datetime.timezone.utc), id=9996, time=datetime.datetime(2025, 8, 9, 15, 44, 11, 291164, tzinfo=datetime.timezone.utc), description='my description'), EventModel(page='/pages', updated_at=datetime.datetime(2025, 8, 9, 15, 44, 11, 126178, tzinfo=datetime.timezone.utc), id=9995, time=datetime.datetime(2025, 8, 9, 15, 44, 11, 126166, tzinfo=datetime.timezone.utc), description='my description'), EventModel(page='/pages', updated_at=datetime.datetime(2025, 8, 9, 15, 44, 10, 965495, tzinfo=datetime.timezone.utc), id=9994, time=datetime.datetime(2025, 8, 9, 15, 44, 10, 965486, tzinfo=datetime.timezone.utc), description='my description'), EventModel(page='/pricing', updated_at=datetime.datetime(2025, 8, 9, 15, 44, 10, 830235, tzinfo=datetime.timezone.utc), id=9993, time=datetime.datetime(2025, 8, 9, 15, 44, 10, 830227, tzinfo=datetime.timezone.utc), description='my description'), EventModel(page='/pages', updated_at=datetime.datetime(2025, 8, 9, 15, 44, 10, 698222, tzinfo=datetime.timezone.utc), id=9992, time=datetime.datetime(2025, 8, 9, 15, 44, 10, 698213, tzinfo=datetime.timezone.utc), description='my description'), EventModel(page='/contact', updated_at=datetime.datetime(2025, 8, 9, 15, 44, 10, 561980, tzinfo=datetime.timezone.utc), id=9991, time=datetime.datetime(2025, 8, 9, 15, 44, 10, 561971, tzinfo=datetime.timezone.utc), description='my description')]\n"
     ]
    }
   ],
   "source": [
    "with Session(engine) as session:\n",
    "    query = select(EventModel).order_by(EventModel.updated_at.desc()).limit(10)\n",
    "    results = session.exec(query).all()\n",
    "    print(results)"
   ]
  },
  {
   "cell_type": "code",
   "execution_count": null,
   "id": "1cd170e8",
   "metadata": {},
   "outputs": [
    {
     "name": "stdout",
     "output_type": "stream",
     "text": [
      "[(datetime.datetime(2025, 8, 11, 0, 0, tzinfo=datetime.timezone.utc), '/about', 243),\n",
      " (datetime.datetime(2025, 8, 11, 0, 0, tzinfo=datetime.timezone.utc), '/contact', 250),\n",
      " (datetime.datetime(2025, 8, 11, 0, 0, tzinfo=datetime.timezone.utc), '/pages', 245),\n",
      " (datetime.datetime(2025, 8, 11, 0, 0, tzinfo=datetime.timezone.utc), '/pricing', 262)]\n"
     ]
    }
   ],
   "source": [
    "from timescaledb.hyperfunctions import time_bucket\n",
    "from pprint import pprint\n",
    "from sqlalchemy import func\n",
    "from datetime import datetime, timedelta, timezone\n",
    "\n",
    "with Session(engine) as session:\n",
    "    bucket = time_bucket(\"1 day\", EventModel.time)\n",
    "    pages = ['/about', '/contact', '/pages', '/pricing']\n",
    "    start = datetime.now(timezone.utc) - timedelta(hours=1)\n",
    "    finish = datetime.now(timezone.utc) + timedelta(hours=1)\n",
    "    query = (\n",
    "        select(\n",
    "            bucket,\n",
    "            EventModel.page,\n",
    "            func.count())\n",
    "        .where(\n",
    "            EventModel.time > start,\n",
    "            EventModel.time <= finish,\n",
    "            EventModel.page.in_(pages)\n",
    "        )\n",
    "        .group_by(\n",
    "            bucket,\n",
    "            EventModel.page\n",
    "        )\n",
    "        .order_by(\n",
    "            bucket,\n",
    "            EventModel.page\n",
    "        )\n",
    "    )\n",
    "    compiled_query = query.compile(compile_kwargs={\"literal_binds\":True})\n",
    "    pprint(compiled_query)\n",
    "    results = session.exec(query).fetchall()\n",
    "    pprint(results)"
   ]
  },
  {
   "cell_type": "code",
   "execution_count": null,
   "id": "5669e144",
   "metadata": {},
   "outputs": [],
   "source": []
  }
 ],
 "metadata": {
  "kernelspec": {
   "display_name": "venv",
   "language": "python",
   "name": "python3"
  },
  "language_info": {
   "codemirror_mode": {
    "name": "ipython",
    "version": 3
   },
   "file_extension": ".py",
   "mimetype": "text/x-python",
   "name": "python",
   "nbconvert_exporter": "python",
   "pygments_lexer": "ipython3",
   "version": "3.12.4"
  }
 },
 "nbformat": 4,
 "nbformat_minor": 5
}
